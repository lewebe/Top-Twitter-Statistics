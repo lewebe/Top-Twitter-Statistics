{
 "cells": [
  {
   "cell_type": "code",
   "execution_count": 1,
   "metadata": {
    "id": "ktrHYrYPm1HA",
    "scrolled": true
   },
   "outputs": [
    {
     "name": "stdout",
     "output_type": "stream",
     "text": [
      "Requirement already satisfied: opendatasets in c:\\users\\ccamb\\appdata\\local\\programs\\python\\python37\\lib\\site-packages (0.1.20)\n",
      "Requirement already satisfied: tqdm in c:\\users\\ccamb\\appdata\\local\\programs\\python\\python37\\lib\\site-packages (from opendatasets) (4.62.3)\n",
      "Requirement already satisfied: kaggle in c:\\users\\ccamb\\appdata\\local\\programs\\python\\python37\\lib\\site-packages (from opendatasets) (1.5.12)\n",
      "Requirement already satisfied: click in c:\\users\\ccamb\\appdata\\local\\programs\\python\\python37\\lib\\site-packages (from opendatasets) (8.0.3)\n",
      "Requirement already satisfied: colorama in c:\\users\\ccamb\\appdata\\local\\programs\\python\\python37\\lib\\site-packages (from click->opendatasets) (0.4.4)\n",
      "Requirement already satisfied: importlib-metadata in c:\\users\\ccamb\\appdata\\local\\programs\\python\\python37\\lib\\site-packages (from click->opendatasets) (3.10.1)\n",
      "Requirement already satisfied: certifi in c:\\users\\ccamb\\appdata\\local\\programs\\python\\python37\\lib\\site-packages (from kaggle->opendatasets) (2021.10.8)\n",
      "Requirement already satisfied: python-dateutil in c:\\users\\ccamb\\appdata\\local\\programs\\python\\python37\\lib\\site-packages (from kaggle->opendatasets) (2.8.1)\n",
      "Requirement already satisfied: python-slugify in c:\\users\\ccamb\\appdata\\local\\programs\\python\\python37\\lib\\site-packages (from kaggle->opendatasets) (6.1.1)\n",
      "Requirement already satisfied: six>=1.10 in c:\\users\\ccamb\\appdata\\local\\programs\\python\\python37\\lib\\site-packages (from kaggle->opendatasets) (1.16.0)\n",
      "Requirement already satisfied: urllib3 in c:\\users\\ccamb\\appdata\\local\\programs\\python\\python37\\lib\\site-packages (from kaggle->opendatasets) (1.26.7)\n",
      "Requirement already satisfied: requests in c:\\users\\ccamb\\appdata\\local\\programs\\python\\python37\\lib\\site-packages (from kaggle->opendatasets) (2.26.0)\n",
      "Requirement already satisfied: zipp>=0.5 in c:\\users\\ccamb\\appdata\\local\\programs\\python\\python37\\lib\\site-packages (from importlib-metadata->click->opendatasets) (3.5.0)\n",
      "Requirement already satisfied: typing-extensions>=3.6.4 in c:\\users\\ccamb\\appdata\\local\\programs\\python\\python37\\lib\\site-packages (from importlib-metadata->click->opendatasets) (3.10.0.0)\n",
      "Requirement already satisfied: text-unidecode>=1.3 in c:\\users\\ccamb\\appdata\\local\\programs\\python\\python37\\lib\\site-packages (from python-slugify->kaggle->opendatasets) (1.3)\n",
      "Requirement already satisfied: idna<4,>=2.5 in c:\\users\\ccamb\\appdata\\local\\programs\\python\\python37\\lib\\site-packages (from requests->kaggle->opendatasets) (3.3)\n",
      "Requirement already satisfied: charset-normalizer~=2.0.0 in c:\\users\\ccamb\\appdata\\local\\programs\\python\\python37\\lib\\site-packages (from requests->kaggle->opendatasets) (2.0.7)\n"
     ]
    }
   ],
   "source": [
    "!pip install opendatasets"
   ]
  },
  {
   "cell_type": "code",
   "execution_count": 2,
   "metadata": {
    "colab": {
     "base_uri": "https://localhost:8080/",
     "height": 91,
     "resources": {
      "http://localhost:8080/nbextensions/google.colab/files.js": {
       "data": "Ly8gQ29weXJpZ2h0IDIwMTcgR29vZ2xlIExMQwovLwovLyBMaWNlbnNlZCB1bmRlciB0aGUgQXBhY2hlIExpY2Vuc2UsIFZlcnNpb24gMi4wICh0aGUgIkxpY2Vuc2UiKTsKLy8geW91IG1heSBub3QgdXNlIHRoaXMgZmlsZSBleGNlcHQgaW4gY29tcGxpYW5jZSB3aXRoIHRoZSBMaWNlbnNlLgovLyBZb3UgbWF5IG9idGFpbiBhIGNvcHkgb2YgdGhlIExpY2Vuc2UgYXQKLy8KLy8gICAgICBodHRwOi8vd3d3LmFwYWNoZS5vcmcvbGljZW5zZXMvTElDRU5TRS0yLjAKLy8KLy8gVW5sZXNzIHJlcXVpcmVkIGJ5IGFwcGxpY2FibGUgbGF3IG9yIGFncmVlZCB0byBpbiB3cml0aW5nLCBzb2Z0d2FyZQovLyBkaXN0cmlidXRlZCB1bmRlciB0aGUgTGljZW5zZSBpcyBkaXN0cmlidXRlZCBvbiBhbiAiQVMgSVMiIEJBU0lTLAovLyBXSVRIT1VUIFdBUlJBTlRJRVMgT1IgQ09ORElUSU9OUyBPRiBBTlkgS0lORCwgZWl0aGVyIGV4cHJlc3Mgb3IgaW1wbGllZC4KLy8gU2VlIHRoZSBMaWNlbnNlIGZvciB0aGUgc3BlY2lmaWMgbGFuZ3VhZ2UgZ292ZXJuaW5nIHBlcm1pc3Npb25zIGFuZAovLyBsaW1pdGF0aW9ucyB1bmRlciB0aGUgTGljZW5zZS4KCi8qKgogKiBAZmlsZW92ZXJ2aWV3IEhlbHBlcnMgZm9yIGdvb2dsZS5jb2xhYiBQeXRob24gbW9kdWxlLgogKi8KKGZ1bmN0aW9uKHNjb3BlKSB7CmZ1bmN0aW9uIHNwYW4odGV4dCwgc3R5bGVBdHRyaWJ1dGVzID0ge30pIHsKICBjb25zdCBlbGVtZW50ID0gZG9jdW1lbnQuY3JlYXRlRWxlbWVudCgnc3BhbicpOwogIGVsZW1lbnQudGV4dENvbnRlbnQgPSB0ZXh0OwogIGZvciAoY29uc3Qga2V5IG9mIE9iamVjdC5rZXlzKHN0eWxlQXR0cmlidXRlcykpIHsKICAgIGVsZW1lbnQuc3R5bGVba2V5XSA9IHN0eWxlQXR0cmlidXRlc1trZXldOwogIH0KICByZXR1cm4gZWxlbWVudDsKfQoKLy8gTWF4IG51bWJlciBvZiBieXRlcyB3aGljaCB3aWxsIGJlIHVwbG9hZGVkIGF0IGEgdGltZS4KY29uc3QgTUFYX1BBWUxPQURfU0laRSA9IDEwMCAqIDEwMjQ7CgpmdW5jdGlvbiBfdXBsb2FkRmlsZXMoaW5wdXRJZCwgb3V0cHV0SWQpIHsKICBjb25zdCBzdGVwcyA9IHVwbG9hZEZpbGVzU3RlcChpbnB1dElkLCBvdXRwdXRJZCk7CiAgY29uc3Qgb3V0cHV0RWxlbWVudCA9IGRvY3VtZW50LmdldEVsZW1lbnRCeUlkKG91dHB1dElkKTsKICAvLyBDYWNoZSBzdGVwcyBvbiB0aGUgb3V0cHV0RWxlbWVudCB0byBtYWtlIGl0IGF2YWlsYWJsZSBmb3IgdGhlIG5leHQgY2FsbAogIC8vIHRvIHVwbG9hZEZpbGVzQ29udGludWUgZnJvbSBQeXRob24uCiAgb3V0cHV0RWxlbWVudC5zdGVwcyA9IHN0ZXBzOwoKICByZXR1cm4gX3VwbG9hZEZpbGVzQ29udGludWUob3V0cHV0SWQpOwp9CgovLyBUaGlzIGlzIHJvdWdobHkgYW4gYXN5bmMgZ2VuZXJhdG9yIChub3Qgc3VwcG9ydGVkIGluIHRoZSBicm93c2VyIHlldCksCi8vIHdoZXJlIHRoZXJlIGFyZSBtdWx0aXBsZSBhc3luY2hyb25vdXMgc3RlcHMgYW5kIHRoZSBQeXRob24gc2lkZSBpcyBnb2luZwovLyB0byBwb2xsIGZvciBjb21wbGV0aW9uIG9mIGVhY2ggc3RlcC4KLy8gVGhpcyB1c2VzIGEgUHJvbWlzZSB0byBibG9jayB0aGUgcHl0aG9uIHNpZGUgb24gY29tcGxldGlvbiBvZiBlYWNoIHN0ZXAsCi8vIHRoZW4gcGFzc2VzIHRoZSByZXN1bHQgb2YgdGhlIHByZXZpb3VzIHN0ZXAgYXMgdGhlIGlucHV0IHRvIHRoZSBuZXh0IHN0ZXAuCmZ1bmN0aW9uIF91cGxvYWRGaWxlc0NvbnRpbnVlKG91dHB1dElkKSB7CiAgY29uc3Qgb3V0cHV0RWxlbWVudCA9IGRvY3VtZW50LmdldEVsZW1lbnRCeUlkKG91dHB1dElkKTsKICBjb25zdCBzdGVwcyA9IG91dHB1dEVsZW1lbnQuc3RlcHM7CgogIGNvbnN0IG5leHQgPSBzdGVwcy5uZXh0KG91dHB1dEVsZW1lbnQubGFzdFByb21pc2VWYWx1ZSk7CiAgcmV0dXJuIFByb21pc2UucmVzb2x2ZShuZXh0LnZhbHVlLnByb21pc2UpLnRoZW4oKHZhbHVlKSA9PiB7CiAgICAvLyBDYWNoZSB0aGUgbGFzdCBwcm9taXNlIHZhbHVlIHRvIG1ha2UgaXQgYXZhaWxhYmxlIHRvIHRoZSBuZXh0CiAgICAvLyBzdGVwIG9mIHRoZSBnZW5lcmF0b3IuCiAgICBvdXRwdXRFbGVtZW50Lmxhc3RQcm9taXNlVmFsdWUgPSB2YWx1ZTsKICAgIHJldHVybiBuZXh0LnZhbHVlLnJlc3BvbnNlOwogIH0pOwp9CgovKioKICogR2VuZXJhdG9yIGZ1bmN0aW9uIHdoaWNoIGlzIGNhbGxlZCBiZXR3ZWVuIGVhY2ggYXN5bmMgc3RlcCBvZiB0aGUgdXBsb2FkCiAqIHByb2Nlc3MuCiAqIEBwYXJhbSB7c3RyaW5nfSBpbnB1dElkIEVsZW1lbnQgSUQgb2YgdGhlIGlucHV0IGZpbGUgcGlja2VyIGVsZW1lbnQuCiAqIEBwYXJhbSB7c3RyaW5nfSBvdXRwdXRJZCBFbGVtZW50IElEIG9mIHRoZSBvdXRwdXQgZGlzcGxheS4KICogQHJldHVybiB7IUl0ZXJhYmxlPCFPYmplY3Q+fSBJdGVyYWJsZSBvZiBuZXh0IHN0ZXBzLgogKi8KZnVuY3Rpb24qIHVwbG9hZEZpbGVzU3RlcChpbnB1dElkLCBvdXRwdXRJZCkgewogIGNvbnN0IGlucHV0RWxlbWVudCA9IGRvY3VtZW50LmdldEVsZW1lbnRCeUlkKGlucHV0SWQpOwogIGlucHV0RWxlbWVudC5kaXNhYmxlZCA9IGZhbHNlOwoKICBjb25zdCBvdXRwdXRFbGVtZW50ID0gZG9jdW1lbnQuZ2V0RWxlbWVudEJ5SWQob3V0cHV0SWQpOwogIG91dHB1dEVsZW1lbnQuaW5uZXJIVE1MID0gJyc7CgogIGNvbnN0IHBpY2tlZFByb21pc2UgPSBuZXcgUHJvbWlzZSgocmVzb2x2ZSkgPT4gewogICAgaW5wdXRFbGVtZW50LmFkZEV2ZW50TGlzdGVuZXIoJ2NoYW5nZScsIChlKSA9PiB7CiAgICAgIHJlc29sdmUoZS50YXJnZXQuZmlsZXMpOwogICAgfSk7CiAgfSk7CgogIGNvbnN0IGNhbmNlbCA9IGRvY3VtZW50LmNyZWF0ZUVsZW1lbnQoJ2J1dHRvbicpOwogIGlucHV0RWxlbWVudC5wYXJlbnRFbGVtZW50LmFwcGVuZENoaWxkKGNhbmNlbCk7CiAgY2FuY2VsLnRleHRDb250ZW50ID0gJ0NhbmNlbCB1cGxvYWQnOwogIGNvbnN0IGNhbmNlbFByb21pc2UgPSBuZXcgUHJvbWlzZSgocmVzb2x2ZSkgPT4gewogICAgY2FuY2VsLm9uY2xpY2sgPSAoKSA9PiB7CiAgICAgIHJlc29sdmUobnVsbCk7CiAgICB9OwogIH0pOwoKICAvLyBXYWl0IGZvciB0aGUgdXNlciB0byBwaWNrIHRoZSBmaWxlcy4KICBjb25zdCBmaWxlcyA9IHlpZWxkIHsKICAgIHByb21pc2U6IFByb21pc2UucmFjZShbcGlja2VkUHJvbWlzZSwgY2FuY2VsUHJvbWlzZV0pLAogICAgcmVzcG9uc2U6IHsKICAgICAgYWN0aW9uOiAnc3RhcnRpbmcnLAogICAgfQogIH07CgogIGNhbmNlbC5yZW1vdmUoKTsKCiAgLy8gRGlzYWJsZSB0aGUgaW5wdXQgZWxlbWVudCBzaW5jZSBmdXJ0aGVyIHBpY2tzIGFyZSBub3QgYWxsb3dlZC4KICBpbnB1dEVsZW1lbnQuZGlzYWJsZWQgPSB0cnVlOwoKICBpZiAoIWZpbGVzKSB7CiAgICByZXR1cm4gewogICAgICByZXNwb25zZTogewogICAgICAgIGFjdGlvbjogJ2NvbXBsZXRlJywKICAgICAgfQogICAgfTsKICB9CgogIGZvciAoY29uc3QgZmlsZSBvZiBmaWxlcykgewogICAgY29uc3QgbGkgPSBkb2N1bWVudC5jcmVhdGVFbGVtZW50KCdsaScpOwogICAgbGkuYXBwZW5kKHNwYW4oZmlsZS5uYW1lLCB7Zm9udFdlaWdodDogJ2JvbGQnfSkpOwogICAgbGkuYXBwZW5kKHNwYW4oCiAgICAgICAgYCgke2ZpbGUudHlwZSB8fCAnbi9hJ30pIC0gJHtmaWxlLnNpemV9IGJ5dGVzLCBgICsKICAgICAgICBgbGFzdCBtb2RpZmllZDogJHsKICAgICAgICAgICAgZmlsZS5sYXN0TW9kaWZpZWREYXRlID8gZmlsZS5sYXN0TW9kaWZpZWREYXRlLnRvTG9jYWxlRGF0ZVN0cmluZygpIDoKICAgICAgICAgICAgICAgICAgICAgICAgICAgICAgICAgICAgJ24vYSd9IC0gYCkpOwogICAgY29uc3QgcGVyY2VudCA9IHNwYW4oJzAlIGRvbmUnKTsKICAgIGxpLmFwcGVuZENoaWxkKHBlcmNlbnQpOwoKICAgIG91dHB1dEVsZW1lbnQuYXBwZW5kQ2hpbGQobGkpOwoKICAgIGNvbnN0IGZpbGVEYXRhUHJvbWlzZSA9IG5ldyBQcm9taXNlKChyZXNvbHZlKSA9PiB7CiAgICAgIGNvbnN0IHJlYWRlciA9IG5ldyBGaWxlUmVhZGVyKCk7CiAgICAgIHJlYWRlci5vbmxvYWQgPSAoZSkgPT4gewogICAgICAgIHJlc29sdmUoZS50YXJnZXQucmVzdWx0KTsKICAgICAgfTsKICAgICAgcmVhZGVyLnJlYWRBc0FycmF5QnVmZmVyKGZpbGUpOwogICAgfSk7CiAgICAvLyBXYWl0IGZvciB0aGUgZGF0YSB0byBiZSByZWFkeS4KICAgIGxldCBmaWxlRGF0YSA9IHlpZWxkIHsKICAgICAgcHJvbWlzZTogZmlsZURhdGFQcm9taXNlLAogICAgICByZXNwb25zZTogewogICAgICAgIGFjdGlvbjogJ2NvbnRpbnVlJywKICAgICAgfQogICAgfTsKCiAgICAvLyBVc2UgYSBjaHVua2VkIHNlbmRpbmcgdG8gYXZvaWQgbWVzc2FnZSBzaXplIGxpbWl0cy4gU2VlIGIvNjIxMTU2NjAuCiAgICBsZXQgcG9zaXRpb24gPSAwOwogICAgZG8gewogICAgICBjb25zdCBsZW5ndGggPSBNYXRoLm1pbihmaWxlRGF0YS5ieXRlTGVuZ3RoIC0gcG9zaXRpb24sIE1BWF9QQVlMT0FEX1NJWkUpOwogICAgICBjb25zdCBjaHVuayA9IG5ldyBVaW50OEFycmF5KGZpbGVEYXRhLCBwb3NpdGlvbiwgbGVuZ3RoKTsKICAgICAgcG9zaXRpb24gKz0gbGVuZ3RoOwoKICAgICAgY29uc3QgYmFzZTY0ID0gYnRvYShTdHJpbmcuZnJvbUNoYXJDb2RlLmFwcGx5KG51bGwsIGNodW5rKSk7CiAgICAgIHlpZWxkIHsKICAgICAgICByZXNwb25zZTogewogICAgICAgICAgYWN0aW9uOiAnYXBwZW5kJywKICAgICAgICAgIGZpbGU6IGZpbGUubmFtZSwKICAgICAgICAgIGRhdGE6IGJhc2U2NCwKICAgICAgICB9LAogICAgICB9OwoKICAgICAgbGV0IHBlcmNlbnREb25lID0gZmlsZURhdGEuYnl0ZUxlbmd0aCA9PT0gMCA/CiAgICAgICAgICAxMDAgOgogICAgICAgICAgTWF0aC5yb3VuZCgocG9zaXRpb24gLyBmaWxlRGF0YS5ieXRlTGVuZ3RoKSAqIDEwMCk7CiAgICAgIHBlcmNlbnQudGV4dENvbnRlbnQgPSBgJHtwZXJjZW50RG9uZX0lIGRvbmVgOwoKICAgIH0gd2hpbGUgKHBvc2l0aW9uIDwgZmlsZURhdGEuYnl0ZUxlbmd0aCk7CiAgfQoKICAvLyBBbGwgZG9uZS4KICB5aWVsZCB7CiAgICByZXNwb25zZTogewogICAgICBhY3Rpb246ICdjb21wbGV0ZScsCiAgICB9CiAgfTsKfQoKc2NvcGUuZ29vZ2xlID0gc2NvcGUuZ29vZ2xlIHx8IHt9OwpzY29wZS5nb29nbGUuY29sYWIgPSBzY29wZS5nb29nbGUuY29sYWIgfHwge307CnNjb3BlLmdvb2dsZS5jb2xhYi5fZmlsZXMgPSB7CiAgX3VwbG9hZEZpbGVzLAogIF91cGxvYWRGaWxlc0NvbnRpbnVlLAp9Owp9KShzZWxmKTsK",
       "headers": [
        [
         "content-type",
         "application/javascript"
        ]
       ],
       "ok": true,
       "status": 200,
       "status_text": ""
      }
     }
    },
    "id": "zanTYEwqoAeY",
    "outputId": "d3ceda5b-b283-4d97-af4e-475a6826f0e0",
    "scrolled": true
   },
   "outputs": [
    {
     "name": "stdout",
     "output_type": "stream",
     "text": [
      "Downloading farmers-protest-tweets-dataset-raw-json.zip to .\\farmers-protest-tweets-dataset-raw-json\n"
     ]
    },
    {
     "name": "stderr",
     "output_type": "stream",
     "text": [
      "100%|███████████████████████████████████████████████████████████████████████████████| 191M/191M [00:05<00:00, 36.0MB/s]"
     ]
    },
    {
     "name": "stdout",
     "output_type": "stream",
     "text": [
      "\n"
     ]
    },
    {
     "name": "stderr",
     "output_type": "stream",
     "text": [
      "\n"
     ]
    }
   ],
   "source": [
    "#Descargamos el dataset\n",
    "import opendatasets as od\n",
    "od.download(\"https://www.kaggle.com/prathamsharma123/farmers-protest-tweets-dataset-raw-json\")"
   ]
  },
  {
   "cell_type": "code",
   "execution_count": 3,
   "metadata": {
    "colab": {
     "base_uri": "https://localhost:8080/",
     "height": 374
    },
    "id": "Vtm9lMLcm1HF",
    "outputId": "3d470c15-e251-44a2-cd52-5495fc06e9c7"
   },
   "outputs": [],
   "source": [
    "#Importamos las funciones de sus respectivos módulos\n",
    "import json\n",
    "from top_retweets import top_10_retweeted_tweets \n",
    "from top_users import top_10_twitter_users\n",
    "from top_hashtags import top_10_hashtags\n",
    "from top_days import top_10_days"
   ]
  },
  {
   "cell_type": "code",
   "execution_count": 6,
   "metadata": {
    "id": "KvzXyGwwfunu"
   },
   "outputs": [
    {
     "name": "stdout",
     "output_type": "stream",
     "text": [
      "\n",
      "Top 10 tweets más retweeteados:\n",
      "\n",
      "Tweet: why aren’t we talking about this?! #FarmersProtest https://t.co/obmIlXhK9S\n",
      "Cantidad de veces retweeteado: 315547\n",
      "\n",
      "Tweet: We stand in solidarity with the #FarmersProtest in India.\n",
      " https://t.co/tqvR0oHgo0\n",
      "Cantidad de veces retweeteado: 103957\n",
      "\n",
      "Tweet: I still #StandWithFarmers and support their peaceful protest.\n",
      "No amount of hate, threats or violations of human rights will ever change that. #FarmersProtest\n",
      "Cantidad de veces retweeteado: 67694\n",
      "\n",
      "Tweet: “Paid actors,” huh? Quite the casting director, I hope they’re not overlooked during awards season. I stand with the farmers. #FarmersProtest https://t.co/moONj03tN0\n",
      "Cantidad de veces retweeteado: 35921\n",
      "\n",
      "Tweet: What in the human rights violations is going on?! They cut the internet around New Delhi?! #FarmersProtest https://t.co/a5ml1P2ikU\n",
      "Cantidad de veces retweeteado: 26972\n",
      "\n",
      "Tweet: Happy to share that I’ve donated $10,000 to provide medical assistance to the farmers in need in India to help save lives during these times. I hope we can prevent any additional life from being lost. 🙏🏾 #FarmersProtest https://t.co/0WoEw0l3ij\n",
      "Cantidad de veces retweeteado: 23251\n",
      "\n",
      "Tweet: There has been much social media coverage around the #FarmersProtest in #India. Very useful guide to the legislation and the impact on farmers. 1/2 https://t.co/3CsdgBebdZ\n",
      "Cantidad de veces retweeteado: 20132\n",
      "\n",
      "Tweet: Farmers feed the world. Fight for them. Protect them #FarmersProtest\n",
      "Cantidad de veces retweeteado: 18744\n",
      "\n",
      "Tweet: Should be talking about this! #FarmersProtest\n",
      "\n",
      "https://t.co/Xh09iTvVoF\n",
      "Cantidad de veces retweeteado: 17368\n",
      "\n",
      "Tweet: To all of my influencer/celeb friends- read up on this   #FarmersProtest 👀\n",
      "Cantidad de veces retweeteado: 15677\n",
      "\n",
      "\n",
      "Top 10 usuarios con más tweets:\n",
      "\n",
      "Usuario: harjot_tweeting\n",
      " Cantidad de retweets: 7133\n",
      "\n",
      "Usuario: tasveersandhu\n",
      " Cantidad de retweets: 2090\n",
      "\n",
      "Usuario: shells_n_petals\n",
      " Cantidad de retweets: 1990\n",
      "\n",
      "Usuario: jot__b\n",
      " Cantidad de retweets: 1840\n",
      "\n",
      "Usuario: rebelpacifist\n",
      " Cantidad de retweets: 1805\n",
      "\n",
      "Usuario: rumsomal\n",
      " Cantidad de retweets: 1721\n",
      "\n",
      "Usuario: Iamjazzie96\n",
      " Cantidad de retweets: 1501\n",
      "\n",
      "Usuario: Jass_k_G\n",
      " Cantidad de retweets: 1459\n",
      "\n",
      "Usuario: DigitalKisanBot\n",
      " Cantidad de retweets: 1452\n",
      "\n",
      "Usuario: z_khalique007\n",
      " Cantidad de retweets: 1445\n",
      "\n",
      "\n",
      "Top 10 días donde hay más tweets:\n",
      "\n",
      "Día: 2021-02-03\n",
      " Cantidad de tweets hechos ese día: 83865\n",
      "\n",
      "Día: 2021-02-04\n",
      " Cantidad de tweets hechos ese día: 58606\n",
      "\n",
      "Día: 2021-02-05\n",
      " Cantidad de tweets hechos ese día: 33331\n",
      "\n",
      "Día: 2021-02-02\n",
      " Cantidad de tweets hechos ese día: 28547\n",
      "\n",
      "Día: 2021-02-06\n",
      " Cantidad de tweets hechos ese día: 22419\n",
      "\n",
      "Día: 2021-02-07\n",
      " Cantidad de tweets hechos ese día: 11324\n",
      "\n",
      "Día: 2021-02-09\n",
      " Cantidad de tweets hechos ese día: 9319\n",
      "\n",
      "Día: 2021-02-08\n",
      " Cantidad de tweets hechos ese día: 8919\n",
      "\n",
      "Día: 2021-02-10\n",
      " Cantidad de tweets hechos ese día: 7972\n",
      "\n",
      "Día: 2021-02-11\n",
      " Cantidad de tweets hechos ese día: 5697\n",
      "\n",
      "\n",
      "Top 10 hashtags más usados:\n",
      "\n",
      "Hashtag: #FarmersProtest\n",
      " Cantidad de veces utilizado: 272554\n",
      "\n",
      "Hashtag: #IStandWithFarmers\n",
      " Cantidad de veces utilizado: 12974\n",
      "\n",
      "Hashtag: #farmersprotest\n",
      " Cantidad de veces utilizado: 11454\n",
      "\n",
      "Hashtag: #IndianFarmersHumanRights\n",
      " Cantidad de veces utilizado: 8323\n",
      "\n",
      "Hashtag: #FarmersAreIndia\n",
      " Cantidad de veces utilizado: 8108\n",
      "\n",
      "Hashtag: #StandWithFarmers\n",
      " Cantidad de veces utilizado: 7840\n",
      "\n",
      "Hashtag: #FarmersProtests\n",
      " Cantidad de veces utilizado: 7260\n",
      "\n",
      "Hashtag: #Rihanna\n",
      " Cantidad de veces utilizado: 7157\n",
      "\n",
      "Hashtag: #Farmers\n",
      " Cantidad de veces utilizado: 5452\n",
      "\n",
      "Hashtag: #shameonbollywood\n",
      " Cantidad de veces utilizado: 4641\n",
      "\n"
     ]
    }
   ],
   "source": [
    "def main(dataset):\n",
    "    #Todas las funciones devuelven una lista de tuplas de la forma (objeto_de_interés, #_de_ocurrencias)\n",
    "    print(\"\\nTop 10 tweets más retweeteados:\\n\")\n",
    "    retweets = top_10_retweeted_tweets(dataset)\n",
    "    for tweet in retweets:\n",
    "        print(f\"Tweet: {tweet[0]}\\n\"\n",
    "                f\"Cantidad de veces retweeteado: {tweet[1]}\\n\")\n",
    "    print(\"\\nTop 10 usuarios con más tweets:\\n\")\n",
    "    users = top_10_twitter_users(dataset)\n",
    "    for user in users:\n",
    "        print(f\"Usuario: {user[0]}\\n Cantidad de retweets: {user[1]}\\n\")\n",
    "    print(\"\\nTop 10 días donde hay más tweets:\\n\")\n",
    "    days = top_10_days(dataset)\n",
    "    for day in days:\n",
    "        print(f\"Día: {day[0]}\\n Cantidad de tweets hechos ese día: {day[1]}\\n\")\n",
    "    print(\"\\nTop 10 hashtags más usados:\\n\")\n",
    "    hashtags = top_10_hashtags(dataset)\n",
    "    for hashtag in hashtags:\n",
    "        print(f\"Hashtag: {hashtag[0]}\\n Cantidad de veces utilizado: {hashtag[1]}\\n\")\n",
    "\n",
    "if __name__ == \"__main__\":\n",
    "    # Cargamos el JSON como una lista de dicts\n",
    "    dataset=list()\n",
    "    with open ('farmers-protest-tweets-dataset-raw-json/farmers-protest-tweets-2021-03-5.json', 'r') as json_file:\n",
    "        for l in json_file.readlines():\n",
    "            if not l.strip ():\n",
    "                continue\n",
    "\n",
    "            json_data = json.loads (l)\n",
    "            dataset.append(json_data)\n",
    "    main(dataset)"
   ]
  },
  {
   "cell_type": "code",
   "execution_count": null,
   "metadata": {},
   "outputs": [],
   "source": []
  }
 ],
 "metadata": {
  "colab": {
   "collapsed_sections": [],
   "name": "main.ipynb",
   "provenance": []
  },
  "kernelspec": {
   "display_name": "Python 3 (ipykernel)",
   "language": "python",
   "name": "python3"
  },
  "language_info": {
   "codemirror_mode": {
    "name": "ipython",
    "version": 3
   },
   "file_extension": ".py",
   "mimetype": "text/x-python",
   "name": "python",
   "nbconvert_exporter": "python",
   "pygments_lexer": "ipython3",
   "version": "3.7.9"
  }
 },
 "nbformat": 4,
 "nbformat_minor": 1
}
