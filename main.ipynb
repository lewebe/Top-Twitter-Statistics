{
  "cells": [
    {
      "cell_type": "code",
      "execution_count": null,
      "metadata": {},
      "outputs": [],
      "source": [
        "import json\n",
        "from top_retweets import top_10_retweeted_tweets \n",
        "from top_users import top_10_twitter_users"
      ]
    },
    {
      "cell_type": "code",
      "execution_count": null,
      "metadata": {
        "id": "KvzXyGwwfunu"
      },
      "outputs": [],
      "source": [
        "def main():\n",
        "    with open('farmers-protest-tweets-2021-03-5.json') as json_file:\n",
        "        dataset = json.load(json_file)\n",
        "    print(\"Top 10 tweets más retweeted:\")\n",
        "    top_retweets = top_10_retweeted_tweets(dataset)\n",
        "    for tweet in top_10_retweeted_tweets:\n",
        "        print(tweet) \n",
        "    print(\"Top 10 usuarios con más tweets:\")\n",
        "    for user in top_10_twitter_users:\n",
        "        print(f\"Usuario: {user[0]}\\n Cantidad de retweets: {user[0]}\\n\")\n",
        "    print(\"Top 10 días donde hay más tweets:\")\n",
        "    print(\"Top 10 hashtags más usados:\")"
      ]
    }
  ],
  "metadata": {
    "colab": {
      "collapsed_sections": [],
      "name": "main.ipynb",
      "provenance": []
    },
    "kernelspec": {
      "display_name": "Python 3",
      "name": "python3"
    },
    "language_info": {
      "name": "python"
    }
  },
  "nbformat": 4,
  "nbformat_minor": 0
}
