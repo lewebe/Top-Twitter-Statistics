{
  "cells": [
    {
      "cell_type": "code",
      "execution_count": null,
      "metadata": {},
      "outputs": [],
      "source": [
        "import json"
      ]
    },
    {
      "cell_type": "code",
      "execution_count": null,
      "metadata": {
        "id": "KvzXyGwwfunu"
      },
      "outputs": [],
      "source": [
        "def main():\n",
        "    with open('farmers-protest-tweets-2021-03-5.json') as json_file:\n",
        "        dataset = json.load(json_file)\n",
        "    print(\"Top 10 tweets más retweeted:\")\n",
        "    print(\"Top 10 usuarios con más tweets:\")\n",
        "    print(\"Top 10 días donde hay más tweets:\")\n",
        "    print(\"Top 10 hashtags más usados:\")"
      ]
    }
  ],
  "metadata": {
    "colab": {
      "collapsed_sections": [],
      "name": "main.ipynb",
      "provenance": []
    },
    "kernelspec": {
      "display_name": "Python 3",
      "name": "python3"
    },
    "language_info": {
      "name": "python"
    }
  },
  "nbformat": 4,
  "nbformat_minor": 0
}
